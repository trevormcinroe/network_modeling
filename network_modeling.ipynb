{
 "cells": [
  {
   "cell_type": "code",
   "execution_count": 1,
   "metadata": {},
   "outputs": [],
   "source": [
    "import numpy as np\n",
    "import pandas as pd\n",
    "import random\n",
    "import string\n",
    "import timeit"
   ]
  },
  {
   "cell_type": "code",
   "execution_count": 191,
   "metadata": {},
   "outputs": [],
   "source": [
    "class Agent():\n",
    "    '''\n",
    "    This class embodies a single individual, \"Agent\", within the greater system.\n",
    "    This Agent has characteristics that help to determine their probability for actions.\n",
    "    '''\n",
    "\n",
    "    def __init__(self):\n",
    "        self.see_probability = None\n",
    "        self.share_probability = None\n",
    "        self.agent_id = ''.join(random.choices(string.ascii_letters + string.digits, k=16))\n",
    "        self.connections = []\n",
    "\n",
    "    def update_probabilities(self, characteristic, value):\n",
    "        '''A function used to update the characteristics of this particular agent\n",
    "        Args:\n",
    "            characteristic: the name of the characteristic to be updated, str\n",
    "            value: the value to update 'characteristic' to\n",
    "        Returns:\n",
    "            an updated characteristic of the Agent\n",
    "        '''\n",
    "        if characteristic == 'see_probability':\n",
    "            self.see_probability = value\n",
    "\n",
    "        if characteristic == 'share_probability':\n",
    "            self.share_probability = value\n",
    "\n",
    "    def add_connections(self, connections_list):\n",
    "        '''A function to add connections to the Agent\n",
    "        Args:\n",
    "            connections_list: a list of other agent_id's\n",
    "        Retuns:\n",
    "            an updated self.connections\n",
    "        '''\n",
    "        # Check to ensure that connections_list is, indeed, a list. Otherwise fuckery\n",
    "        if type(connections_list) != list:\n",
    "            connections_list = [connections_list]\n",
    "        \n",
    "        # Looping through the list and adding other Agent's agent_ids\n",
    "        for con in connections_list:\n",
    "            # We need to ensure that they are not already in the connections list\n",
    "            # In addition, we need to ensure that and Agent cannot be connected to theirself\n",
    "            if con in self.connections:\n",
    "                continue\n",
    "            else:\n",
    "                if con == self.agent_id:\n",
    "                    continue\n",
    "                else:\n",
    "                    self.connections.append(con)        \n",
    "        \n",
    "        \n",
    "class Network():\n",
    "    '''\n",
    "    This class holds the information about the directional connection of the network itself.\n",
    "    '''\n",
    "\n",
    "    def __init__(self):\n",
    "        self.agents = None\n",
    "\n",
    "    def add_agents(self, agents):\n",
    "        '''A helper function to add a list of agents to the network\n",
    "        Args:\n",
    "            the agent_ids of the agents, list\n",
    "        '''\n",
    "        self.agents = agents\n",
    "        \n",
    "    def find_agent(self, agent_id):\n",
    "        '''A helper function to find a specific agent in the Network\n",
    "        Args:\n",
    "            agent_id: the ID of the agent you are trying to find, str\n",
    "        Returns:\n",
    "            an agent, Agent()\n",
    "        '''\n",
    "        # Handling case where agent_id is not in the network\n",
    "        # Using list comprehension for speed, grab the Agent that matches agent_id\n",
    "        results = [agent for agent in agents if agent.agent_id == agent_id]\n",
    "        \n",
    "        # If the len of the returned list is 0, Agent not found in this network\n",
    "        # Else, return the Agent\n",
    "        if len(results) == 0:\n",
    "            raise AttributeError(f'{agent_id} is not in this network.')\n",
    "        else:\n",
    "            return results[0]\n",
    "    \n",
    "    def create_connections(self, connections):\n",
    "        '''A helper function that adds connections to agents\n",
    "        Args:\n",
    "            connections: list of tuples of connections, [(agent1, agent2), (agent2, agent3)]\n",
    "        '''\n",
    "        # Grabbing a list of our agent_ids for reference\n",
    "        network_agents = [agent.agent_id for agent in self.agents]\n",
    "\n",
    "        # Looping through the outer list of tuples of the connections\n",
    "        for con in connections:\n",
    "            \n",
    "            # We need to ensure that each agent_id exists for an Agent in this network\n",
    "            if any([con[0] not in network_agents, con[1] not in network_agents]):\n",
    "                raise AttributeError(f'Either {con[0]} or {con[1]} is not in this network.')\n",
    "                continue\n",
    "            # Grabbing the first agent in the tuple to add the second\n",
    "            # Then vice-versa\n",
    "            self.find_agent(agent_id=con[0]).add_connections(connections_list=con[1])\n",
    "            self.find_agent(agent_id=con[1]).add_connections(connections_list=con[0])\n",
    "        \n",
    "    def simulate_seen(self, initalizer, n_simulations):\n",
    "        '''A function that simulates the spread of information through this network\n",
    "        Args:\n",
    "            initalizer: the agent_id of the Agent that makes the initial post, str\n",
    "            n_simulations: the number of simulations desired, int\n",
    "        '''\n",
    "        # Asserts\n",
    "        assert type(n_simulations) == int, 'n_sumulations must be an integer'\n",
    "        \n",
    "        # First need to ensure that the 'initalizer' is in this Network\n",
    "        # find_agent() raises error if agent_id not in network, so we rely on that function\n",
    "        initalizer_agent = self.find_agent(agent_id=initalizer)\n",
    "        \n",
    "        # We can save some compute by grabbing a list of Agents from the initalizer up front\n",
    "        initalizer_connections = [self.find_agent(agent_id=con) for con in initalizer_agent.connections]\n",
    "        \n",
    "        # Outer loop of the number of simulations\n",
    "        for n in range(n_simulations):\n",
    "            \n",
    "            # First, we loop thru the connections of the initalizer_agent and calculate\n",
    "            # the probability of each Agent seeing the post\n",
    "            # Then, we calculate the probability of them sharing the post\n",
    "            first_level_seen = [probability(n=1, probability_failure=(100 - agent.see_probability))[0] for agent in initalizer_connections]\n",
    "            first_level_share = [probability(n=1, probability_failure=(100 - agent.share_probability))[0] for agent in initalizer_connections]\n",
    "            \n",
    "            # Now we can calculate the probability of these agents sharing GIVEN\n",
    "            # that they have seen the original post\n",
    "            first_level_pass = [1 if i==1 and j==1 else 0 for i, j in zip(first_level_seen,\n",
    "                                                                         first_level_share)]\n",
    "            return first_level_pass\n",
    "\n",
    "    def simulate_seen2(self, initalizer):\n",
    "        '''A function that simulates the spread of information through this network\n",
    "        Args:\n",
    "            initalizer: the agent_id of the Agent that makes the initial post, str\n",
    "            n_simulations: the number of simulations desired, int\n",
    "        '''\n",
    "        # Asserts\n",
    "        assert type(n_simulations) == int, 'n_sumulations must be an integer'\n",
    "        \n",
    "        # First need to ensure that the 'initalizer' is in this Network\n",
    "        # find_agent() raises error if agent_id not in network, so we rely on that function\n",
    "        initalizer_agent = self.find_agent(agent_id=initalizer)\n",
    "        \n",
    "        # We can save some compute by grabbing a list of Agents from the initalizer up front\n",
    "        initalizer_connections = [self.find_agent(agent_id=con) for con in initalizer_agent.connections]\n",
    "        \n",
    "        #\n",
    "        \n",
    "    \n",
    "                                  \n",
    "def probability(n, probability_failure):\n",
    "    return [1 if num > probability_failure else 0 for num in [random.randint(0, 100) for x in range(n)]]"
   ]
  },
  {
   "cell_type": "code",
   "execution_count": 175,
   "metadata": {},
   "outputs": [
    {
     "data": {
      "text/plain": [
       "[1, 0, 0, 0]"
      ]
     },
     "execution_count": 175,
     "metadata": {},
     "output_type": "execute_result"
    }
   ],
   "source": [
    "a = [1, 1, 0, 0]\n",
    "b = [1, 0, 1, 0]\n",
    "\n",
    "[1 if i==1 and j==1 else 0 for i, j in zip(a, b)]"
   ]
  },
  {
   "cell_type": "code",
   "execution_count": 231,
   "metadata": {},
   "outputs": [],
   "source": [
    "agents = [Agent() for i in range(15)]\n",
    "network = Network()\n",
    "\n",
    "for agent in agents:\n",
    "    agent.update_probabilities(characteristic='see_probability', value=random.randint(0, 100))\n",
    "    \n",
    "for agent in agents:\n",
    "    agent.update_probabilities(characteristic='share_probability', value=random.randint(0, 100))\n",
    "    \n",
    "network.add_agents(agents=agents)"
   ]
  },
  {
   "cell_type": "code",
   "execution_count": 232,
   "metadata": {},
   "outputs": [
    {
     "name": "stdout",
     "output_type": "stream",
     "text": [
      "8JeE6IS8XdJDXOma 17 88\n",
      "b0DBZOJoAnC4ERCL 70 57\n",
      "gUTA6eu1FMTnvcZY 34 45\n",
      "Hw7KbXMM6Cuba4Ox 10 26\n",
      "UhTsEjvsKSym6niy 38 96\n",
      "5iH1j5PqAbVUb4HJ 60 65\n",
      "e1gKuv03oA59D4jS 23 20\n",
      "DpO2VyU7o4p9oOaM 46 65\n",
      "QmRSdo2kcnAUGfTG 55 38\n",
      "L6Yog1s2puA2qWnE 88 83\n",
      "YP11SEBG93s2bJok 10 37\n",
      "Giv67wvCVoZBCTAw 73 98\n",
      "6AlCO1nUVvITq1Uu 24 4\n",
      "6dpi0HuN2NZXcmVk 57 50\n",
      "PDFx8FIsFSk73vTH 63 69\n"
     ]
    }
   ],
   "source": [
    "for agent in network.agents:\n",
    "    print(agent.agent_id, agent.see_probability, agent.share_probability)"
   ]
  },
  {
   "cell_type": "code",
   "execution_count": 234,
   "metadata": {},
   "outputs": [],
   "source": [
    "network.create_connections(connections=[\n",
    "    ('8JeE6IS8XdJDXOma', 'b0DBZOJoAnC4ERCL'),\n",
    "    ('8JeE6IS8XdJDXOma', 'gUTA6eu1FMTnvcZY'),\n",
    "    ('8JeE6IS8XdJDXOma', 'Hw7KbXMM6Cuba4Ox'),\n",
    "    ('8JeE6IS8XdJDXOma', 'UhTsEjvsKSym6niy'),\n",
    "    ('8JeE6IS8XdJDXOma', '5iH1j5PqAbVUb4HJ'),\n",
    "])"
   ]
  },
  {
   "cell_type": "code",
   "execution_count": 235,
   "metadata": {},
   "outputs": [],
   "source": [
    "network.create_connections(connections=[\n",
    "    ('b0DBZOJoAnC4ERCL', 'e1gKuv03oA59D4jS'),\n",
    "    ('b0DBZOJoAnC4ERCL', 'DpO2VyU7o4p9oOaM'),\n",
    "])\n",
    "\n",
    "network.create_connections(connections=[\n",
    "    ('UhTsEjvsKSym6niy', 'QmRSdo2kcnAUGfTG')\n",
    "])\n",
    "\n",
    "network.create_connections(connections=[\n",
    "    ('gUTA6eu1FMTnvcZY', 'L6Yog1s2puA2qWnE'),\n",
    "    ('gUTA6eu1FMTnvcZY', 'YP11SEBG93s2bJok')\n",
    "])\n",
    "\n",
    "network.create_connections(connections=[\n",
    "    ('Hw7KbXMM6Cuba4Ox', '6dpi0HuN2NZXcmVk'),\n",
    "    ('Hw7KbXMM6Cuba4Ox', '6AlCO1nUVvITq1Uu'),\n",
    "    ('Hw7KbXMM6Cuba4Ox', 'Giv67wvCVoZBCTAw')\n",
    "])\n",
    "\n",
    "network.create_connections(connections=[\n",
    "    ('5iH1j5PqAbVUb4HJ', 'PDFx8FIsFSk73vTH')\n",
    "])"
   ]
  },
  {
   "cell_type": "code",
   "execution_count": null,
   "metadata": {},
   "outputs": [],
   "source": [
    "def depth_simulation(initalizer):\n",
    "    '''A functions that simulates a Network our to a given layer depth\n",
    "    Args:\n",
    "        initalizer: the agent_id of the Agent that makes the initial post, str\n",
    "    '''"
   ]
  },
  {
   "cell_type": "code",
   "execution_count": 1,
   "metadata": {},
   "outputs": [],
   "source": [
    "def layered_connections(network, initalizer, n_layers):\n",
    "    '''A helper function that finds all of the connections out to n_layers layers\n",
    "    Args:\n",
    "        initalizer: the agent_id of the Agent that begins the search, str\n",
    "        n_layers: the number of layers to search through\n",
    "    Returns:\n",
    "        asdasd\n",
    "    '''\n",
    "    # Asserting that the given initalizer Agent exists in the network\n",
    "    initalizer_agent = network.find_agent(agent_id=initalizer)\n",
    "  \n",
    "    # First, create our dictionary with our first layer connections (from initalizer Agent)\n",
    "    connections_dict = {\n",
    "        0: {initalizer: [network.find_agent(agent_id=agent) for agent in initalizer_agent.connections]}\n",
    "    }\n",
    "\n",
    "    # Looping through the number of layers in n_layers\n",
    "    # Start loop at one, as we reference [i-1] to get the Agents to search through for i\n",
    "    for i in range(1, n_layers):\n",
    "\n",
    "        # First, grab a list of the Keys (agent_ids, str) from the previous layer\n",
    "        prev_layer_agent_ids = list(connections_dict[i-1].keys())\n",
    "\n",
    "        # Then, we need to initalize another Key for this level\n",
    "        connections_dict[i] = {}\n",
    "        \n",
    "        # Then, iterate through this list to grab the relevant Agents \n",
    "        # Once we have those Agents, grab all of their .connections\n",
    "        # Finally, append this information to our dictionary\n",
    "        for agent_id in prev_layer_agent_ids:\n",
    "            \n",
    "            # Grabbing and holding our Agent objects in memory\n",
    "            Agent_holder = connections_dict[i-1][agent_id]\n",
    "            \n",
    "            # Looping through each Agent in our Agent_holder\n",
    "            # and adding the Agent's agent_id as a key and their connections \n",
    "            # that are NOT \n",
    "            for Agent in Agent_holder:\n",
    "                connections_dict[i][Agent.agent_id] = [network.find_agent(agent_id=ai) for ai in Agent.connections if ai not in prev_layer_agent_ids]\n",
    "    \n",
    "    return connections_dict               "
   ]
  },
  {
   "cell_type": "code",
   "execution_count": 347,
   "metadata": {
    "scrolled": false
   },
   "outputs": [
    {
     "name": "stdout",
     "output_type": "stream",
     "text": [
      "1 \n",
      "\n",
      "2 \n",
      "\n"
     ]
    },
    {
     "data": {
      "text/plain": [
       "{0: {'8JeE6IS8XdJDXOma': [<__main__.Agent at 0x159b9833c50>,\n",
       "   <__main__.Agent at 0x159b9833198>,\n",
       "   <__main__.Agent at 0x159b9833da0>,\n",
       "   <__main__.Agent at 0x159b9833780>,\n",
       "   <__main__.Agent at 0x159b9833630>]},\n",
       " 1: {'b0DBZOJoAnC4ERCL': [<__main__.Agent at 0x159b9833048>,\n",
       "   <__main__.Agent at 0x159b9833978>],\n",
       "  'gUTA6eu1FMTnvcZY': [<__main__.Agent at 0x159b98330b8>,\n",
       "   <__main__.Agent at 0x159b98335f8>],\n",
       "  'Hw7KbXMM6Cuba4Ox': [<__main__.Agent at 0x159b9833908>,\n",
       "   <__main__.Agent at 0x159b9833668>,\n",
       "   <__main__.Agent at 0x159b9833828>],\n",
       "  'UhTsEjvsKSym6niy': [<__main__.Agent at 0x159b9833438>],\n",
       "  '5iH1j5PqAbVUb4HJ': [<__main__.Agent at 0x159b9833eb8>]},\n",
       " 2: {'e1gKuv03oA59D4jS': [],\n",
       "  'DpO2VyU7o4p9oOaM': [],\n",
       "  'L6Yog1s2puA2qWnE': [],\n",
       "  'YP11SEBG93s2bJok': [],\n",
       "  '6dpi0HuN2NZXcmVk': [],\n",
       "  '6AlCO1nUVvITq1Uu': [],\n",
       "  'Giv67wvCVoZBCTAw': [],\n",
       "  'QmRSdo2kcnAUGfTG': [],\n",
       "  'PDFx8FIsFSk73vTH': []}}"
      ]
     },
     "execution_count": 347,
     "metadata": {},
     "output_type": "execute_result"
    }
   ],
   "source": [
    "con_dict = layered_connections(initalizer='8JeE6IS8XdJDXOma', n_layers=3)\n",
    "con_dict"
   ]
  },
  {
   "cell_type": "code",
   "execution_count": 2,
   "metadata": {},
   "outputs": [
    {
     "ename": "NameError",
     "evalue": "name 'network' is not defined",
     "output_type": "error",
     "traceback": [
      "\u001b[1;31m---------------------------------------------------------------------------\u001b[0m",
      "\u001b[1;31mNameError\u001b[0m                                 Traceback (most recent call last)",
      "\u001b[1;32m<ipython-input-2-840daa4c9377>\u001b[0m in \u001b[0;36m<module>\u001b[1;34m()\u001b[0m\n\u001b[1;32m----> 1\u001b[1;33m \u001b[0mcon_dict\u001b[0m \u001b[1;33m=\u001b[0m \u001b[0mlayered_connections\u001b[0m\u001b[1;33m(\u001b[0m\u001b[0mnetwork\u001b[0m\u001b[1;33m=\u001b[0m\u001b[0mnetwork\u001b[0m\u001b[1;33m,\u001b[0m \u001b[0minitalizer\u001b[0m\u001b[1;33m=\u001b[0m\u001b[1;34m'8JeE6IS8XdJDXOma'\u001b[0m\u001b[1;33m,\u001b[0m \u001b[0mn_layers\u001b[0m\u001b[1;33m=\u001b[0m\u001b[1;36m3\u001b[0m\u001b[1;33m)\u001b[0m\u001b[1;33m\u001b[0m\u001b[0m\n\u001b[0m\u001b[0;32m      2\u001b[0m \u001b[0mcon_dict\u001b[0m\u001b[1;33m\u001b[0m\u001b[0m\n",
      "\u001b[1;31mNameError\u001b[0m: name 'network' is not defined"
     ]
    }
   ],
   "source": [
    "con_dict = layered_connections(network=network, initalizer='8JeE6IS8XdJDXOma', n_layers=3)\n",
    "con_dict"
   ]
  },
  {
   "cell_type": "code",
   "execution_count": 306,
   "metadata": {},
   "outputs": [
    {
     "name": "stdout",
     "output_type": "stream",
     "text": [
      "{'this': {'inside': [1, 2, 3]}}\n",
      "{'this': {'inside': [1, 2, 3]}, 'that': {'inside2': [4, 5, 6]}}\n"
     ]
    }
   ],
   "source": [
    "a = {'this': {'inside': [1, 2, 3]}}\n",
    "print(a)\n",
    "\n",
    "a['that'] = {'inside2': [4, 5, 6]}\n",
    "print(a)"
   ]
  },
  {
   "cell_type": "code",
   "execution_count": 345,
   "metadata": {},
   "outputs": [
    {
     "name": "stdout",
     "output_type": "stream",
     "text": [
      "{1: {'this': [1, 2, 3]}}\n",
      "{1: {'this': [1, 2, 3]}, 2: {}}\n",
      "{1: {'this': [1, 2, 3]}, 2: {'that': [4, 5, 6]}}\n"
     ]
    }
   ],
   "source": [
    "a = {1: {'this': [1, 2, 3]}}\n",
    "print(a)\n",
    "\n",
    "a[2] = {}\n",
    "print(a)\n",
    "\n",
    "a[2]['that'] = [4, 5, 6]\n",
    "print(a)"
   ]
  },
  {
   "cell_type": "code",
   "execution_count": 250,
   "metadata": {},
   "outputs": [
    {
     "ename": "ValueError",
     "evalue": "dictionary update sequence element #0 has length 4; 2 is required",
     "output_type": "error",
     "traceback": [
      "\u001b[1;31m---------------------------------------------------------------------------\u001b[0m",
      "\u001b[1;31mValueError\u001b[0m                                Traceback (most recent call last)",
      "\u001b[1;32m<ipython-input-250-0b2a5f080456>\u001b[0m in \u001b[0;36m<module>\u001b[1;34m()\u001b[0m\n\u001b[1;32m----> 1\u001b[1;33m \u001b[0mdict\u001b[0m\u001b[1;33m(\u001b[0m\u001b[1;33m[\u001b[0m\u001b[1;34m'this'\u001b[0m\u001b[1;33m,\u001b[0m \u001b[1;34m'that'\u001b[0m\u001b[1;33m]\u001b[0m\u001b[1;33m)\u001b[0m\u001b[1;33m\u001b[0m\u001b[0m\n\u001b[0m",
      "\u001b[1;31mValueError\u001b[0m: dictionary update sequence element #0 has length 4; 2 is required"
     ]
    }
   ],
   "source": [
    "dict(['this', 'that'])"
   ]
  },
  {
   "cell_type": "code",
   "execution_count": 237,
   "metadata": {},
   "outputs": [
    {
     "ename": "AttributeError",
     "evalue": "8JeE6IS8XdJDXOm is not in this network.",
     "output_type": "error",
     "traceback": [
      "\u001b[1;31m---------------------------------------------------------------------------\u001b[0m",
      "\u001b[1;31mAttributeError\u001b[0m                            Traceback (most recent call last)",
      "\u001b[1;32m<ipython-input-237-06467608a08a>\u001b[0m in \u001b[0;36m<module>\u001b[1;34m()\u001b[0m\n\u001b[1;32m----> 1\u001b[1;33m \u001b[0mnetwork\u001b[0m\u001b[1;33m.\u001b[0m\u001b[0mfind_agent\u001b[0m\u001b[1;33m(\u001b[0m\u001b[0magent_id\u001b[0m\u001b[1;33m=\u001b[0m\u001b[1;34m'8JeE6IS8XdJDXOm'\u001b[0m\u001b[1;33m)\u001b[0m\u001b[1;33m\u001b[0m\u001b[0m\n\u001b[0m",
      "\u001b[1;32m<ipython-input-191-d8fdf92a9217>\u001b[0m in \u001b[0;36mfind_agent\u001b[1;34m(self, agent_id)\u001b[0m\n\u001b[0;32m     78\u001b[0m         \u001b[1;31m# Else, return the Agent\u001b[0m\u001b[1;33m\u001b[0m\u001b[1;33m\u001b[0m\u001b[0m\n\u001b[0;32m     79\u001b[0m         \u001b[1;32mif\u001b[0m \u001b[0mlen\u001b[0m\u001b[1;33m(\u001b[0m\u001b[0mresults\u001b[0m\u001b[1;33m)\u001b[0m \u001b[1;33m==\u001b[0m \u001b[1;36m0\u001b[0m\u001b[1;33m:\u001b[0m\u001b[1;33m\u001b[0m\u001b[0m\n\u001b[1;32m---> 80\u001b[1;33m             \u001b[1;32mraise\u001b[0m \u001b[0mAttributeError\u001b[0m\u001b[1;33m(\u001b[0m\u001b[1;34mf'{agent_id} is not in this network.'\u001b[0m\u001b[1;33m)\u001b[0m\u001b[1;33m\u001b[0m\u001b[0m\n\u001b[0m\u001b[0;32m     81\u001b[0m         \u001b[1;32melse\u001b[0m\u001b[1;33m:\u001b[0m\u001b[1;33m\u001b[0m\u001b[0m\n\u001b[0;32m     82\u001b[0m             \u001b[1;32mreturn\u001b[0m \u001b[0mresults\u001b[0m\u001b[1;33m[\u001b[0m\u001b[1;36m0\u001b[0m\u001b[1;33m]\u001b[0m\u001b[1;33m\u001b[0m\u001b[0m\n",
      "\u001b[1;31mAttributeError\u001b[0m: 8JeE6IS8XdJDXOm is not in this network."
     ]
    }
   ],
   "source": [
    "network.find_agent(agent_id='8JeE6IS8XdJDXOm')"
   ]
  },
  {
   "cell_type": "code",
   "execution_count": null,
   "metadata": {},
   "outputs": [],
   "source": []
  },
  {
   "cell_type": "code",
   "execution_count": 224,
   "metadata": {},
   "outputs": [
    {
     "name": "stdout",
     "output_type": "stream",
     "text": [
      "0.6375\n",
      "0.0114\n",
      "0.0264\n"
     ]
    }
   ],
   "source": [
    "print(.85*.75)\n",
    "print(.06*.19)\n",
    "print(.11*.24)"
   ]
  },
  {
   "cell_type": "code",
   "execution_count": 230,
   "metadata": {},
   "outputs": [],
   "source": [
    "l = []\n",
    "\n",
    "for n in range(10000):\n",
    "    l.append(network.simulate_seen(initalizer='zvULY9UBVKaAiyI5', n_simulations=1))"
   ]
  },
  {
   "cell_type": "markdown",
   "metadata": {},
   "source": [
    "# "
   ]
  },
  {
   "cell_type": "code",
   "execution_count": 227,
   "metadata": {},
   "outputs": [
    {
     "name": "stdout",
     "output_type": "stream",
     "text": [
      "0.62438\n",
      "0.010927\n",
      "0.026004\n"
     ]
    }
   ],
   "source": [
    "l2 = []\n",
    "for i in range(3):\n",
    "    l2 = []\n",
    "#     print('HERE')\n",
    "    for n in l:\n",
    "        l2.append(n[i])\n",
    "        \n",
    "    print(np.mean(l2))"
   ]
  },
  {
   "cell_type": "code",
   "execution_count": 207,
   "metadata": {},
   "outputs": [
    {
     "data": {
      "text/plain": [
       "['ItOAGB028mvgsZPe', 'tpUvbh0XIVwvzKaa', 'gSQcZeEmUwQ9OBXJ']"
      ]
     },
     "execution_count": 207,
     "metadata": {},
     "output_type": "execute_result"
    }
   ],
   "source": [
    "network.find_agent(agent_id='zvULY9UBVKaAiyI5').connections"
   ]
  },
  {
   "cell_type": "code",
   "execution_count": 206,
   "metadata": {},
   "outputs": [],
   "source": [
    "network.create_connections(connections=[('zvULY9UBVKaAiyI5', 'ItOAGB028mvgsZPe'),\n",
    "                                       ('zvULY9UBVKaAiyI5', 'tpUvbh0XIVwvzKaa'),\n",
    "                                       ('zvULY9UBVKaAiyI5', 'gSQcZeEmUwQ9OBXJ')])"
   ]
  },
  {
   "cell_type": "code",
   "execution_count": 183,
   "metadata": {},
   "outputs": [
    {
     "name": "stdout",
     "output_type": "stream",
     "text": [
      "Seen: [1, 1] \n",
      " Shared: [0, 1] \n",
      " Pass: [0, 1]\n"
     ]
    }
   ],
   "source": [
    "network.simulate_seen(initalizer='zvULY9UBVKaAiyI5', n_simulations=1)"
   ]
  },
  {
   "cell_type": "code",
   "execution_count": 138,
   "metadata": {},
   "outputs": [
    {
     "name": "stdout",
     "output_type": "stream",
     "text": [
      "88\n",
      "19\n",
      "38\n",
      "14\n",
      "61\n",
      "11\n",
      "100\n",
      "14\n",
      "53\n",
      "63\n",
      "23\n",
      "28\n",
      "81\n"
     ]
    }
   ],
   "source": [
    "for agent in network.agents:\n",
    "    print(agent.see_probability)"
   ]
  },
  {
   "cell_type": "code",
   "execution_count": 134,
   "metadata": {},
   "outputs": [
    {
     "data": {
      "text/plain": [
       "[0, 1, 1, 0, 1, 0, 0, 0, 1, 0, 0, 0, 0]"
      ]
     },
     "execution_count": 134,
     "metadata": {},
     "output_type": "execute_result"
    }
   ],
   "source": [
    "[probability(n=1, probability_failure=(100 - agent.see_probability))[0] for agent in network.agents]"
   ]
  },
  {
   "cell_type": "code",
   "execution_count": 127,
   "metadata": {},
   "outputs": [],
   "source": [
    "network.simulate_seen(initalizer='Eg0nLfmnh8uiHiBz')"
   ]
  },
  {
   "cell_type": "code",
   "execution_count": 98,
   "metadata": {},
   "outputs": [],
   "source": [
    "network.create_connections(connections=[('5T76t4jW6cX0x2Rw', 'OWBKiMnerONPfdaG'),\n",
    "                                       ('OWBKiMnerONPfdaG', '6HyB9I4extP5bVc3')])"
   ]
  },
  {
   "cell_type": "code",
   "execution_count": 99,
   "metadata": {},
   "outputs": [
    {
     "name": "stdout",
     "output_type": "stream",
     "text": [
      "['OWBKiMnerONPfdaG']\n",
      "['5T76t4jW6cX0x2Rw', '6HyB9I4extP5bVc3']\n",
      "['OWBKiMnerONPfdaG']\n"
     ]
    }
   ],
   "source": [
    "print(network.find_agent(agent_id='5T76t4jW6cX0x2Rw').connections)\n",
    "print(network.find_agent(agent_id='OWBKiMnerONPfdaG').connections)\n",
    "print(network.find_agent(agent_id='6HyB9I4extP5bVc3').connections)"
   ]
  },
  {
   "cell_type": "code",
   "execution_count": 71,
   "metadata": {},
   "outputs": [],
   "source": [
    "a = [1, 2, 3, 4]\n",
    "if any([2 not in a, 3 not in a]):\n",
    "    print('herer')"
   ]
  },
  {
   "cell_type": "code",
   "execution_count": 106,
   "metadata": {},
   "outputs": [
    {
     "data": {
      "text/plain": [
       "<__main__.Agent at 0x159b997e748>"
      ]
     },
     "execution_count": 106,
     "metadata": {},
     "output_type": "execute_result"
    }
   ],
   "source": [
    "network.find_agent(agent_id='WEov4TQfsBwltqH3')"
   ]
  },
  {
   "cell_type": "code",
   "execution_count": null,
   "metadata": {},
   "outputs": [],
   "source": [
    "network.find_agent(agent_id='XC4ZXS5JfqkJabdz').add_connections(connections_list=[\n",
    "    'JuqWGq5bA18NwLec',\n",
    "    'C5SzWXXqztjAhjRE',\n",
    "    'fDPk8Trw7PbGE2e2'\n",
    "])"
   ]
  },
  {
   "cell_type": "code",
   "execution_count": null,
   "metadata": {},
   "outputs": [],
   "source": []
  },
  {
   "cell_type": "code",
   "execution_count": null,
   "metadata": {},
   "outputs": [],
   "source": []
  },
  {
   "cell_type": "code",
   "execution_count": null,
   "metadata": {},
   "outputs": [],
   "source": []
  },
  {
   "cell_type": "code",
   "execution_count": null,
   "metadata": {},
   "outputs": [],
   "source": []
  }
 ],
 "metadata": {
  "kernelspec": {
   "display_name": "Python 3",
   "language": "python",
   "name": "python3"
  },
  "language_info": {
   "codemirror_mode": {
    "name": "ipython",
    "version": 3
   },
   "file_extension": ".py",
   "mimetype": "text/x-python",
   "name": "python",
   "nbconvert_exporter": "python",
   "pygments_lexer": "ipython3",
   "version": "3.6.5"
  }
 },
 "nbformat": 4,
 "nbformat_minor": 2
}
